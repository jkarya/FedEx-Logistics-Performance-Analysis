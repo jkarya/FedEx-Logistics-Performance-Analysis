{
  "nbformat": 4,
  "nbformat_minor": 0,
  "metadata": {
    "colab": {
      "provenance": [],
      "authorship_tag": "ABX9TyOu1prIo4xePvH3jub61BN6",
      "include_colab_link": true
    },
    "kernelspec": {
      "name": "python3",
      "display_name": "Python 3"
    },
    "language_info": {
      "name": "python"
    }
  },
  "cells": [
    {
      "cell_type": "markdown",
      "metadata": {
        "id": "view-in-github",
        "colab_type": "text"
      },
      "source": [
        "<a href=\"https://colab.research.google.com/github/jkarya/FedEx-Logistics-Performance-Analysis/blob/main/FedEx_Logistics_Performance_Analysis.ipynb\" target=\"_parent\"><img src=\"https://colab.research.google.com/assets/colab-badge.svg\" alt=\"Open In Colab\"/></a>"
      ]
    },
    {
      "cell_type": "markdown",
      "source": [
        "**Project Overview**"
      ],
      "metadata": {
        "id": "Azlly6dPe6Si"
      }
    },
    {
      "cell_type": "markdown",
      "source": [
        "This project focuses on analyzing the global supply chain operations of FedEx Logistics, with the goal of uncovering insights that can optimize shipment processes, minimize freight costs, and improve delivery efficiency. The dataset contains detailed information about purchase orders, shipment methods, vendor agreements (INCO terms), delivery schedules, and product-specific details such as item descriptions and quantities. Through data analysis, this project aims to streamline the supply chain and enhance decision-making for cost-effective logistics management."
      ],
      "metadata": {
        "id": "c6A56aGYfChd"
      }
    },
    {
      "cell_type": "markdown",
      "source": [
        "**Business Objectives**"
      ],
      "metadata": {
        "id": "0BwyCd8rfEQz"
      }
    },
    {
      "cell_type": "markdown",
      "source": [
        "Business Objectives\n",
        "The key objectives of this project are:\n",
        "\n",
        "To provide in-depth insights into freight costs across various shipment methods and countries.\n",
        "\n",
        "To analyze vendor contributions to shipment quantities and total line item values.\n",
        "\n",
        "To explore the relationship between shipment weight, item quantities, and freight cost for better budgeting and forecasting.\n",
        "\n",
        "To identify bottlenecks or delays in the supply chain by analyzing delivery times and shipment performance."
      ],
      "metadata": {
        "id": "KJi2vhktfIHi"
      }
    },
    {
      "cell_type": "markdown",
      "source": [
        "**Dataset Description**"
      ],
      "metadata": {
        "id": "d0tvNfQAfQ6M"
      }
    },
    {
      "cell_type": "markdown",
      "source": [
        "\n",
        "The dataset captures logistics data from FedEx, including:\n",
        "\n",
        "Shipment Mode: Different methods used for shipping (Air, Sea, etc.)\n",
        ".\n",
        "Freight Cost (USD): The cost associated with shipping an item.\n",
        "\n",
        "INCO Terms: International shipping terms used in contracts.\n",
        "\n",
        "Delivery Dates: Scheduled and actual delivery dates for shipments.\n",
        "\n",
        "Line Item Quantity: The number of items in each shipment.\n",
        "\n",
        "Country: Destination country for each shipment.\n",
        "\n",
        "Vendor: The source of the shipment."
      ],
      "metadata": {
        "id": "LDTD4bJtfTyx"
      }
    },
    {
      "cell_type": "markdown",
      "source": [
        "**Tools and Libraries**"
      ],
      "metadata": {
        "id": "HXhwh5X_fede"
      }
    },
    {
      "cell_type": "markdown",
      "source": [
        "Python: For data processing and analysis.\n",
        "\n",
        "Pandas: For data manipulation and cleaning.\n",
        "\n",
        "NumPy: For numerical computations.\n",
        "\n",
        "\n",
        "Matplotlib and Seaborn: For data visualization (static and statistical visualizations).\n",
        "\n",
        "Plotly: For creating interactive visualizations."
      ],
      "metadata": {
        "id": "VSeZCmkgfhnA"
      }
    },
    {
      "cell_type": "code",
      "source": [
        "# import library\n",
        "import numpy as np\n",
        "import pandas as pd\n",
        "import matplotlib.pyplot as plt\n",
        "import seaborn as sns"
      ],
      "metadata": {
        "id": "rf6MjOlwE89c"
      },
      "execution_count": null,
      "outputs": []
    },
    {
      "cell_type": "code",
      "source": [
        "#load Dataset\n",
        "data=pd.read_csv('/content/SCMS_Delivery_History_Dataset.csv')"
      ],
      "metadata": {
        "id": "g5DXDm2nE86J"
      },
      "execution_count": null,
      "outputs": []
    },
    {
      "cell_type": "code",
      "source": [
        "data.head()"
      ],
      "metadata": {
        "colab": {
          "base_uri": "https://localhost:8080/",
          "height": 429
        },
        "id": "InKp-2L5KPjm",
        "outputId": "c2ad8e1b-7d29-4f4a-85a9-cb367ca2c7a1"
      },
      "execution_count": null,
      "outputs": [
        {
          "output_type": "execute_result",
          "data": {
            "text/plain": [
              "   ID Project Code            PQ # PO / SO # ASN/DN #        Country  \\\n",
              "0   1   100-CI-T01  Pre-PQ Process    SCMS-4    ASN-8  Côte d'Ivoire   \n",
              "1   3   108-VN-T01  Pre-PQ Process   SCMS-13   ASN-85        Vietnam   \n",
              "2   4   100-CI-T01  Pre-PQ Process   SCMS-20   ASN-14  Côte d'Ivoire   \n",
              "3  15   108-VN-T01  Pre-PQ Process   SCMS-78   ASN-50        Vietnam   \n",
              "4  16   108-VN-T01  Pre-PQ Process   SCMS-81   ASN-55        Vietnam   \n",
              "\n",
              "  Managed By  Fulfill Via Vendor INCO Term Shipment Mode  ...  \\\n",
              "0   PMO - US  Direct Drop              EXW           Air  ...   \n",
              "1   PMO - US  Direct Drop              EXW           Air  ...   \n",
              "2   PMO - US  Direct Drop              FCA           Air  ...   \n",
              "3   PMO - US  Direct Drop              EXW           Air  ...   \n",
              "4   PMO - US  Direct Drop              EXW           Air  ...   \n",
              "\n",
              "  Unit of Measure (Per Pack) Line Item Quantity Line Item Value Pack Price  \\\n",
              "0                         30                 19           551.0      29.00   \n",
              "1                        240               1000          6200.0       6.20   \n",
              "2                        100                500         40000.0      80.00   \n",
              "3                         60              31920        127360.8       3.99   \n",
              "4                         60              38000        121600.0       3.20   \n",
              "\n",
              "  Unit Price             Manufacturing Site First Line Designation  \\\n",
              "0       0.97     Ranbaxy Fine Chemicals LTD                    Yes   \n",
              "1       0.03      Aurobindo Unit III, India                    Yes   \n",
              "2       0.80  ABBVIE GmbH & Co.KG Wiesbaden                    Yes   \n",
              "3       0.07  Ranbaxy, Paonta Shahib, India                    Yes   \n",
              "4       0.05      Aurobindo Unit III, India                    Yes   \n",
              "\n",
              "  Weight (Kilograms) Freight Cost (USD) Line Item Insurance (USD)  \n",
              "0                 13             780.34                       NaN  \n",
              "1                358             4521.5                       NaN  \n",
              "2                171            1653.78                       NaN  \n",
              "3               1855           16007.06                       NaN  \n",
              "4               7590           45450.08                       NaN  \n",
              "\n",
              "[5 rows x 33 columns]"
            ],
            "text/html": [
              "\n",
              "  <div id=\"df-66652bd9-be38-482c-8b41-4f6c824d4517\" class=\"colab-df-container\">\n",
              "    <div>\n",
              "<style scoped>\n",
              "    .dataframe tbody tr th:only-of-type {\n",
              "        vertical-align: middle;\n",
              "    }\n",
              "\n",
              "    .dataframe tbody tr th {\n",
              "        vertical-align: top;\n",
              "    }\n",
              "\n",
              "    .dataframe thead th {\n",
              "        text-align: right;\n",
              "    }\n",
              "</style>\n",
              "<table border=\"1\" class=\"dataframe\">\n",
              "  <thead>\n",
              "    <tr style=\"text-align: right;\">\n",
              "      <th></th>\n",
              "      <th>ID</th>\n",
              "      <th>Project Code</th>\n",
              "      <th>PQ #</th>\n",
              "      <th>PO / SO #</th>\n",
              "      <th>ASN/DN #</th>\n",
              "      <th>Country</th>\n",
              "      <th>Managed By</th>\n",
              "      <th>Fulfill Via</th>\n",
              "      <th>Vendor INCO Term</th>\n",
              "      <th>Shipment Mode</th>\n",
              "      <th>...</th>\n",
              "      <th>Unit of Measure (Per Pack)</th>\n",
              "      <th>Line Item Quantity</th>\n",
              "      <th>Line Item Value</th>\n",
              "      <th>Pack Price</th>\n",
              "      <th>Unit Price</th>\n",
              "      <th>Manufacturing Site</th>\n",
              "      <th>First Line Designation</th>\n",
              "      <th>Weight (Kilograms)</th>\n",
              "      <th>Freight Cost (USD)</th>\n",
              "      <th>Line Item Insurance (USD)</th>\n",
              "    </tr>\n",
              "  </thead>\n",
              "  <tbody>\n",
              "    <tr>\n",
              "      <th>0</th>\n",
              "      <td>1</td>\n",
              "      <td>100-CI-T01</td>\n",
              "      <td>Pre-PQ Process</td>\n",
              "      <td>SCMS-4</td>\n",
              "      <td>ASN-8</td>\n",
              "      <td>Côte d'Ivoire</td>\n",
              "      <td>PMO - US</td>\n",
              "      <td>Direct Drop</td>\n",
              "      <td>EXW</td>\n",
              "      <td>Air</td>\n",
              "      <td>...</td>\n",
              "      <td>30</td>\n",
              "      <td>19</td>\n",
              "      <td>551.0</td>\n",
              "      <td>29.00</td>\n",
              "      <td>0.97</td>\n",
              "      <td>Ranbaxy Fine Chemicals LTD</td>\n",
              "      <td>Yes</td>\n",
              "      <td>13</td>\n",
              "      <td>780.34</td>\n",
              "      <td>NaN</td>\n",
              "    </tr>\n",
              "    <tr>\n",
              "      <th>1</th>\n",
              "      <td>3</td>\n",
              "      <td>108-VN-T01</td>\n",
              "      <td>Pre-PQ Process</td>\n",
              "      <td>SCMS-13</td>\n",
              "      <td>ASN-85</td>\n",
              "      <td>Vietnam</td>\n",
              "      <td>PMO - US</td>\n",
              "      <td>Direct Drop</td>\n",
              "      <td>EXW</td>\n",
              "      <td>Air</td>\n",
              "      <td>...</td>\n",
              "      <td>240</td>\n",
              "      <td>1000</td>\n",
              "      <td>6200.0</td>\n",
              "      <td>6.20</td>\n",
              "      <td>0.03</td>\n",
              "      <td>Aurobindo Unit III, India</td>\n",
              "      <td>Yes</td>\n",
              "      <td>358</td>\n",
              "      <td>4521.5</td>\n",
              "      <td>NaN</td>\n",
              "    </tr>\n",
              "    <tr>\n",
              "      <th>2</th>\n",
              "      <td>4</td>\n",
              "      <td>100-CI-T01</td>\n",
              "      <td>Pre-PQ Process</td>\n",
              "      <td>SCMS-20</td>\n",
              "      <td>ASN-14</td>\n",
              "      <td>Côte d'Ivoire</td>\n",
              "      <td>PMO - US</td>\n",
              "      <td>Direct Drop</td>\n",
              "      <td>FCA</td>\n",
              "      <td>Air</td>\n",
              "      <td>...</td>\n",
              "      <td>100</td>\n",
              "      <td>500</td>\n",
              "      <td>40000.0</td>\n",
              "      <td>80.00</td>\n",
              "      <td>0.80</td>\n",
              "      <td>ABBVIE GmbH &amp; Co.KG Wiesbaden</td>\n",
              "      <td>Yes</td>\n",
              "      <td>171</td>\n",
              "      <td>1653.78</td>\n",
              "      <td>NaN</td>\n",
              "    </tr>\n",
              "    <tr>\n",
              "      <th>3</th>\n",
              "      <td>15</td>\n",
              "      <td>108-VN-T01</td>\n",
              "      <td>Pre-PQ Process</td>\n",
              "      <td>SCMS-78</td>\n",
              "      <td>ASN-50</td>\n",
              "      <td>Vietnam</td>\n",
              "      <td>PMO - US</td>\n",
              "      <td>Direct Drop</td>\n",
              "      <td>EXW</td>\n",
              "      <td>Air</td>\n",
              "      <td>...</td>\n",
              "      <td>60</td>\n",
              "      <td>31920</td>\n",
              "      <td>127360.8</td>\n",
              "      <td>3.99</td>\n",
              "      <td>0.07</td>\n",
              "      <td>Ranbaxy, Paonta Shahib, India</td>\n",
              "      <td>Yes</td>\n",
              "      <td>1855</td>\n",
              "      <td>16007.06</td>\n",
              "      <td>NaN</td>\n",
              "    </tr>\n",
              "    <tr>\n",
              "      <th>4</th>\n",
              "      <td>16</td>\n",
              "      <td>108-VN-T01</td>\n",
              "      <td>Pre-PQ Process</td>\n",
              "      <td>SCMS-81</td>\n",
              "      <td>ASN-55</td>\n",
              "      <td>Vietnam</td>\n",
              "      <td>PMO - US</td>\n",
              "      <td>Direct Drop</td>\n",
              "      <td>EXW</td>\n",
              "      <td>Air</td>\n",
              "      <td>...</td>\n",
              "      <td>60</td>\n",
              "      <td>38000</td>\n",
              "      <td>121600.0</td>\n",
              "      <td>3.20</td>\n",
              "      <td>0.05</td>\n",
              "      <td>Aurobindo Unit III, India</td>\n",
              "      <td>Yes</td>\n",
              "      <td>7590</td>\n",
              "      <td>45450.08</td>\n",
              "      <td>NaN</td>\n",
              "    </tr>\n",
              "  </tbody>\n",
              "</table>\n",
              "<p>5 rows × 33 columns</p>\n",
              "</div>\n",
              "    <div class=\"colab-df-buttons\">\n",
              "\n",
              "  <div class=\"colab-df-container\">\n",
              "    <button class=\"colab-df-convert\" onclick=\"convertToInteractive('df-66652bd9-be38-482c-8b41-4f6c824d4517')\"\n",
              "            title=\"Convert this dataframe to an interactive table.\"\n",
              "            style=\"display:none;\">\n",
              "\n",
              "  <svg xmlns=\"http://www.w3.org/2000/svg\" height=\"24px\" viewBox=\"0 -960 960 960\">\n",
              "    <path d=\"M120-120v-720h720v720H120Zm60-500h600v-160H180v160Zm220 220h160v-160H400v160Zm0 220h160v-160H400v160ZM180-400h160v-160H180v160Zm440 0h160v-160H620v160ZM180-180h160v-160H180v160Zm440 0h160v-160H620v160Z\"/>\n",
              "  </svg>\n",
              "    </button>\n",
              "\n",
              "  <style>\n",
              "    .colab-df-container {\n",
              "      display:flex;\n",
              "      gap: 12px;\n",
              "    }\n",
              "\n",
              "    .colab-df-convert {\n",
              "      background-color: #E8F0FE;\n",
              "      border: none;\n",
              "      border-radius: 50%;\n",
              "      cursor: pointer;\n",
              "      display: none;\n",
              "      fill: #1967D2;\n",
              "      height: 32px;\n",
              "      padding: 0 0 0 0;\n",
              "      width: 32px;\n",
              "    }\n",
              "\n",
              "    .colab-df-convert:hover {\n",
              "      background-color: #E2EBFA;\n",
              "      box-shadow: 0px 1px 2px rgba(60, 64, 67, 0.3), 0px 1px 3px 1px rgba(60, 64, 67, 0.15);\n",
              "      fill: #174EA6;\n",
              "    }\n",
              "\n",
              "    .colab-df-buttons div {\n",
              "      margin-bottom: 4px;\n",
              "    }\n",
              "\n",
              "    [theme=dark] .colab-df-convert {\n",
              "      background-color: #3B4455;\n",
              "      fill: #D2E3FC;\n",
              "    }\n",
              "\n",
              "    [theme=dark] .colab-df-convert:hover {\n",
              "      background-color: #434B5C;\n",
              "      box-shadow: 0px 1px 3px 1px rgba(0, 0, 0, 0.15);\n",
              "      filter: drop-shadow(0px 1px 2px rgba(0, 0, 0, 0.3));\n",
              "      fill: #FFFFFF;\n",
              "    }\n",
              "  </style>\n",
              "\n",
              "    <script>\n",
              "      const buttonEl =\n",
              "        document.querySelector('#df-66652bd9-be38-482c-8b41-4f6c824d4517 button.colab-df-convert');\n",
              "      buttonEl.style.display =\n",
              "        google.colab.kernel.accessAllowed ? 'block' : 'none';\n",
              "\n",
              "      async function convertToInteractive(key) {\n",
              "        const element = document.querySelector('#df-66652bd9-be38-482c-8b41-4f6c824d4517');\n",
              "        const dataTable =\n",
              "          await google.colab.kernel.invokeFunction('convertToInteractive',\n",
              "                                                    [key], {});\n",
              "        if (!dataTable) return;\n",
              "\n",
              "        const docLinkHtml = 'Like what you see? Visit the ' +\n",
              "          '<a target=\"_blank\" href=https://colab.research.google.com/notebooks/data_table.ipynb>data table notebook</a>'\n",
              "          + ' to learn more about interactive tables.';\n",
              "        element.innerHTML = '';\n",
              "        dataTable['output_type'] = 'display_data';\n",
              "        await google.colab.output.renderOutput(dataTable, element);\n",
              "        const docLink = document.createElement('div');\n",
              "        docLink.innerHTML = docLinkHtml;\n",
              "        element.appendChild(docLink);\n",
              "      }\n",
              "    </script>\n",
              "  </div>\n",
              "\n",
              "\n",
              "<div id=\"df-d7c474b5-be1d-4e62-8c83-f602c3459f5a\">\n",
              "  <button class=\"colab-df-quickchart\" onclick=\"quickchart('df-d7c474b5-be1d-4e62-8c83-f602c3459f5a')\"\n",
              "            title=\"Suggest charts\"\n",
              "            style=\"display:none;\">\n",
              "\n",
              "<svg xmlns=\"http://www.w3.org/2000/svg\" height=\"24px\"viewBox=\"0 0 24 24\"\n",
              "     width=\"24px\">\n",
              "    <g>\n",
              "        <path d=\"M19 3H5c-1.1 0-2 .9-2 2v14c0 1.1.9 2 2 2h14c1.1 0 2-.9 2-2V5c0-1.1-.9-2-2-2zM9 17H7v-7h2v7zm4 0h-2V7h2v10zm4 0h-2v-4h2v4z\"/>\n",
              "    </g>\n",
              "</svg>\n",
              "  </button>\n",
              "\n",
              "<style>\n",
              "  .colab-df-quickchart {\n",
              "      --bg-color: #E8F0FE;\n",
              "      --fill-color: #1967D2;\n",
              "      --hover-bg-color: #E2EBFA;\n",
              "      --hover-fill-color: #174EA6;\n",
              "      --disabled-fill-color: #AAA;\n",
              "      --disabled-bg-color: #DDD;\n",
              "  }\n",
              "\n",
              "  [theme=dark] .colab-df-quickchart {\n",
              "      --bg-color: #3B4455;\n",
              "      --fill-color: #D2E3FC;\n",
              "      --hover-bg-color: #434B5C;\n",
              "      --hover-fill-color: #FFFFFF;\n",
              "      --disabled-bg-color: #3B4455;\n",
              "      --disabled-fill-color: #666;\n",
              "  }\n",
              "\n",
              "  .colab-df-quickchart {\n",
              "    background-color: var(--bg-color);\n",
              "    border: none;\n",
              "    border-radius: 50%;\n",
              "    cursor: pointer;\n",
              "    display: none;\n",
              "    fill: var(--fill-color);\n",
              "    height: 32px;\n",
              "    padding: 0;\n",
              "    width: 32px;\n",
              "  }\n",
              "\n",
              "  .colab-df-quickchart:hover {\n",
              "    background-color: var(--hover-bg-color);\n",
              "    box-shadow: 0 1px 2px rgba(60, 64, 67, 0.3), 0 1px 3px 1px rgba(60, 64, 67, 0.15);\n",
              "    fill: var(--button-hover-fill-color);\n",
              "  }\n",
              "\n",
              "  .colab-df-quickchart-complete:disabled,\n",
              "  .colab-df-quickchart-complete:disabled:hover {\n",
              "    background-color: var(--disabled-bg-color);\n",
              "    fill: var(--disabled-fill-color);\n",
              "    box-shadow: none;\n",
              "  }\n",
              "\n",
              "  .colab-df-spinner {\n",
              "    border: 2px solid var(--fill-color);\n",
              "    border-color: transparent;\n",
              "    border-bottom-color: var(--fill-color);\n",
              "    animation:\n",
              "      spin 1s steps(1) infinite;\n",
              "  }\n",
              "\n",
              "  @keyframes spin {\n",
              "    0% {\n",
              "      border-color: transparent;\n",
              "      border-bottom-color: var(--fill-color);\n",
              "      border-left-color: var(--fill-color);\n",
              "    }\n",
              "    20% {\n",
              "      border-color: transparent;\n",
              "      border-left-color: var(--fill-color);\n",
              "      border-top-color: var(--fill-color);\n",
              "    }\n",
              "    30% {\n",
              "      border-color: transparent;\n",
              "      border-left-color: var(--fill-color);\n",
              "      border-top-color: var(--fill-color);\n",
              "      border-right-color: var(--fill-color);\n",
              "    }\n",
              "    40% {\n",
              "      border-color: transparent;\n",
              "      border-right-color: var(--fill-color);\n",
              "      border-top-color: var(--fill-color);\n",
              "    }\n",
              "    60% {\n",
              "      border-color: transparent;\n",
              "      border-right-color: var(--fill-color);\n",
              "    }\n",
              "    80% {\n",
              "      border-color: transparent;\n",
              "      border-right-color: var(--fill-color);\n",
              "      border-bottom-color: var(--fill-color);\n",
              "    }\n",
              "    90% {\n",
              "      border-color: transparent;\n",
              "      border-bottom-color: var(--fill-color);\n",
              "    }\n",
              "  }\n",
              "</style>\n",
              "\n",
              "  <script>\n",
              "    async function quickchart(key) {\n",
              "      const quickchartButtonEl =\n",
              "        document.querySelector('#' + key + ' button');\n",
              "      quickchartButtonEl.disabled = true;  // To prevent multiple clicks.\n",
              "      quickchartButtonEl.classList.add('colab-df-spinner');\n",
              "      try {\n",
              "        const charts = await google.colab.kernel.invokeFunction(\n",
              "            'suggestCharts', [key], {});\n",
              "      } catch (error) {\n",
              "        console.error('Error during call to suggestCharts:', error);\n",
              "      }\n",
              "      quickchartButtonEl.classList.remove('colab-df-spinner');\n",
              "      quickchartButtonEl.classList.add('colab-df-quickchart-complete');\n",
              "    }\n",
              "    (() => {\n",
              "      let quickchartButtonEl =\n",
              "        document.querySelector('#df-d7c474b5-be1d-4e62-8c83-f602c3459f5a button');\n",
              "      quickchartButtonEl.style.display =\n",
              "        google.colab.kernel.accessAllowed ? 'block' : 'none';\n",
              "    })();\n",
              "  </script>\n",
              "</div>\n",
              "\n",
              "    </div>\n",
              "  </div>\n"
            ],
            "application/vnd.google.colaboratory.intrinsic+json": {
              "type": "dataframe",
              "variable_name": "data"
            }
          },
          "metadata": {},
          "execution_count": 77
        }
      ]
    },
    {
      "cell_type": "markdown",
      "source": [
        "**1. Basic Data Overview**"
      ],
      "metadata": {
        "id": "CP0JJS7tEwc4"
      }
    },
    {
      "cell_type": "code",
      "execution_count": null,
      "metadata": {
        "colab": {
          "base_uri": "https://localhost:8080/"
        },
        "id": "8332YU3VEaCm",
        "outputId": "c5b72e4e-88a3-4545-c84e-03578d6ba802"
      },
      "outputs": [
        {
          "output_type": "stream",
          "name": "stdout",
          "text": [
            "Dataset Shape: (10324, 33)\n"
          ]
        }
      ],
      "source": [
        "# Dataset shape (rows, columns)\n",
        "print(f\"Dataset Shape: {data.shape}\")"
      ]
    },
    {
      "cell_type": "code",
      "source": [
        "# Summary of the dataset\n",
        "print(data.describe())"
      ],
      "metadata": {
        "colab": {
          "base_uri": "https://localhost:8080/"
        },
        "id": "i-9CvhfiElDe",
        "outputId": "a4ee422b-a5d4-41fb-9cca-77f09bb345cb"
      },
      "execution_count": null,
      "outputs": [
        {
          "output_type": "stream",
          "name": "stdout",
          "text": [
            "                 ID  Unit of Measure (Per Pack)  Line Item Quantity  \\\n",
            "count  10324.000000                10324.000000        10324.000000   \n",
            "mean   51098.968229                   77.990895        18332.534870   \n",
            "std    31944.332496                   76.579764        40035.302961   \n",
            "min        1.000000                    1.000000            1.000000   \n",
            "25%    12795.750000                   30.000000          408.000000   \n",
            "50%    57540.500000                   60.000000         3000.000000   \n",
            "75%    83648.250000                   90.000000        17039.750000   \n",
            "max    86823.000000                 1000.000000       619999.000000   \n",
            "\n",
            "       Line Item Value    Pack Price    Unit Price  Line Item Insurance (USD)  \n",
            "count     1.032400e+04  10324.000000  10324.000000               10037.000000  \n",
            "mean      1.576506e+05     21.910241      0.611701                 240.117626  \n",
            "std       3.452921e+05     45.609223      3.275808                 500.190568  \n",
            "min       0.000000e+00      0.000000      0.000000                   0.000000  \n",
            "25%       4.314593e+03      4.120000      0.080000                   6.510000  \n",
            "50%       3.047147e+04      9.300000      0.160000                  47.040000  \n",
            "75%       1.664471e+05     23.592500      0.470000                 252.400000  \n",
            "max       5.951990e+06   1345.640000    238.650000                7708.440000  \n"
          ]
        }
      ]
    },
    {
      "cell_type": "code",
      "source": [
        "# Checking for null values\n",
        "null_values = data.isnull().sum()\n",
        "print(null_values[null_values > 0])"
      ],
      "metadata": {
        "colab": {
          "base_uri": "https://localhost:8080/"
        },
        "id": "9rC9mrG3ElFm",
        "outputId": "1f87f251-5cec-44a0-a495-14593633631d"
      },
      "execution_count": null,
      "outputs": [
        {
          "output_type": "stream",
          "name": "stdout",
          "text": [
            "Shipment Mode                 360\n",
            "Dosage                       1736\n",
            "Line Item Insurance (USD)     287\n",
            "dtype: int64\n"
          ]
        }
      ]
    },
    {
      "cell_type": "markdown",
      "source": [
        "**2. Data Cleaning**"
      ],
      "metadata": {
        "id": "SB4-QrkRFpjU"
      }
    },
    {
      "cell_type": "code",
      "source": [
        "# Checking for duplicate rows\n",
        "duplicates = data.duplicated().sum()\n",
        "print(f\"Number of duplicate rows: {duplicates}\")"
      ],
      "metadata": {
        "colab": {
          "base_uri": "https://localhost:8080/"
        },
        "id": "g4UsL1pnElIm",
        "outputId": "b8ada011-0c9a-4838-d044-1a1428832fd9"
      },
      "execution_count": null,
      "outputs": [
        {
          "output_type": "stream",
          "name": "stdout",
          "text": [
            "Number of duplicate rows: 0\n"
          ]
        }
      ]
    },
    {
      "cell_type": "code",
      "source": [
        "# Dropping duplicates if any\n",
        "data_cleaned = data.drop_duplicates()\n",
        "\n",
        "# Filling missing values in 'Freight Cost (USD)' and 'Line Item Insurance (USD)' with 0\n",
        "data_cleaned['Freight Cost (USD)'].fillna(0, inplace=True)\n",
        "data_cleaned['Line Item Insurance (USD)'].fillna(0, inplace=True)\n",
        "\n",
        "# For categorical columns, we may use mode to fill missing values\n",
        "data_cleaned['Vendor'].fillna(data_cleaned['Vendor'].mode()[0], inplace=True)"
      ],
      "metadata": {
        "colab": {
          "base_uri": "https://localhost:8080/"
        },
        "id": "RgLYOOfSElLU",
        "outputId": "d84d2873-c267-4e5c-8a3a-730f73de62ca"
      },
      "execution_count": null,
      "outputs": [
        {
          "output_type": "stream",
          "name": "stderr",
          "text": [
            "<ipython-input-82-1f63db0b42c1>:5: FutureWarning: A value is trying to be set on a copy of a DataFrame or Series through chained assignment using an inplace method.\n",
            "The behavior will change in pandas 3.0. This inplace method will never work because the intermediate object on which we are setting values always behaves as a copy.\n",
            "\n",
            "For example, when doing 'df[col].method(value, inplace=True)', try using 'df.method({col: value}, inplace=True)' or df[col] = df[col].method(value) instead, to perform the operation inplace on the original object.\n",
            "\n",
            "\n",
            "  data_cleaned['Freight Cost (USD)'].fillna(0, inplace=True)\n",
            "<ipython-input-82-1f63db0b42c1>:6: FutureWarning: A value is trying to be set on a copy of a DataFrame or Series through chained assignment using an inplace method.\n",
            "The behavior will change in pandas 3.0. This inplace method will never work because the intermediate object on which we are setting values always behaves as a copy.\n",
            "\n",
            "For example, when doing 'df[col].method(value, inplace=True)', try using 'df.method({col: value}, inplace=True)' or df[col] = df[col].method(value) instead, to perform the operation inplace on the original object.\n",
            "\n",
            "\n",
            "  data_cleaned['Line Item Insurance (USD)'].fillna(0, inplace=True)\n",
            "<ipython-input-82-1f63db0b42c1>:9: FutureWarning: A value is trying to be set on a copy of a DataFrame or Series through chained assignment using an inplace method.\n",
            "The behavior will change in pandas 3.0. This inplace method will never work because the intermediate object on which we are setting values always behaves as a copy.\n",
            "\n",
            "For example, when doing 'df[col].method(value, inplace=True)', try using 'df.method({col: value}, inplace=True)' or df[col] = df[col].method(value) instead, to perform the operation inplace on the original object.\n",
            "\n",
            "\n",
            "  data_cleaned['Vendor'].fillna(data_cleaned['Vendor'].mode()[0], inplace=True)\n"
          ]
        }
      ]
    },
    {
      "cell_type": "markdown",
      "source": [
        "**3. Descriptive Statistics**"
      ],
      "metadata": {
        "id": "hsRF6CvBGAAw"
      }
    },
    {
      "cell_type": "code",
      "source": [
        "# Descriptive statistics for numerical columns\n",
        "numerical_columns = ['Line Item Quantity', 'Line Item Value', 'Freight Cost (USD)',\n",
        "                     'Weight (Kilograms)', 'Line Item Insurance (USD)']\n",
        "print(data_cleaned[numerical_columns].describe())\n"
      ],
      "metadata": {
        "colab": {
          "base_uri": "https://localhost:8080/"
        },
        "id": "nAvUyI8zElN6",
        "outputId": "71e17317-550a-494f-ba62-360e499d6fd9"
      },
      "execution_count": null,
      "outputs": [
        {
          "output_type": "stream",
          "name": "stdout",
          "text": [
            "       Line Item Quantity  Line Item Value  Line Item Insurance (USD)\n",
            "count        10324.000000     1.032400e+04               10324.000000\n",
            "mean         18332.534870     1.576506e+05                 233.442523\n",
            "std          40035.302961     3.452921e+05                 494.765813\n",
            "min              1.000000     0.000000e+00                   0.000000\n",
            "25%            408.000000     4.314593e+03                   5.242500\n",
            "50%           3000.000000     3.047147e+04                  42.815000\n",
            "75%          17039.750000     1.664471e+05                 241.750000\n",
            "max         619999.000000     5.951990e+06                7708.440000\n"
          ]
        }
      ]
    },
    {
      "cell_type": "markdown",
      "source": [
        "**4. Categorical Data Overview**"
      ],
      "metadata": {
        "id": "qelMTRaVGNTF"
      }
    },
    {
      "cell_type": "code",
      "source": [
        "# Top 10 countries by shipment frequency\n",
        "top_countries = data_cleaned['Country'].value_counts().head(10)\n",
        "print(top_countries)"
      ],
      "metadata": {
        "colab": {
          "base_uri": "https://localhost:8080/"
        },
        "id": "cXmT_RIxElQh",
        "outputId": "bafb144d-ddb3-4f1e-e43d-8bc37416cfef"
      },
      "execution_count": null,
      "outputs": [
        {
          "output_type": "stream",
          "name": "stdout",
          "text": [
            "Country\n",
            "South Africa     1406\n",
            "Nigeria          1194\n",
            "Côte d'Ivoire    1083\n",
            "Uganda            779\n",
            "Vietnam           688\n",
            "Zambia            683\n",
            "Haiti             655\n",
            "Mozambique        631\n",
            "Zimbabwe          538\n",
            "Tanzania          519\n",
            "Name: count, dtype: int64\n"
          ]
        }
      ]
    },
    {
      "cell_type": "code",
      "source": [
        "# Shipment mode distribution\n",
        "shipment_modes = data_cleaned['Shipment Mode'].value_counts()\n",
        "print(shipment_modes)"
      ],
      "metadata": {
        "colab": {
          "base_uri": "https://localhost:8080/"
        },
        "id": "sUkDsf6wElTK",
        "outputId": "b9d637bc-a126-436e-c258-881fec87ca6f"
      },
      "execution_count": null,
      "outputs": [
        {
          "output_type": "stream",
          "name": "stdout",
          "text": [
            "Shipment Mode\n",
            "Air            6113\n",
            "Truck          2830\n",
            "Air Charter     650\n",
            "Ocean           371\n",
            "Name: count, dtype: int64\n"
          ]
        }
      ]
    },
    {
      "cell_type": "code",
      "source": [
        "# Top 10 vendors\n",
        "top_vendors = data_cleaned['Vendor'].value_counts().head(10)\n",
        "print(top_vendors)"
      ],
      "metadata": {
        "colab": {
          "base_uri": "https://localhost:8080/"
        },
        "id": "k9MIFFOPElVw",
        "outputId": "e0613c5b-b18b-420d-f801-ed5322e985e7"
      },
      "execution_count": null,
      "outputs": [
        {
          "output_type": "stream",
          "name": "stdout",
          "text": [
            "Vendor\n",
            "SCMS from RDC                                            5404\n",
            "Orgenics, Ltd                                             754\n",
            "S. BUYS WHOLESALER                                        715\n",
            "Aurobindo Pharma Limited                                  668\n",
            "Trinity Biotech, Plc                                      356\n",
            "ABBVIE LOGISTICS (FORMERLY ABBOTT LOGISTICS BV)           347\n",
            "PHARMACY DIRECT                                           326\n",
            "MYLAN LABORATORIES LTD (FORMERLY MATRIX LABORATORIES)     317\n",
            "HETERO LABS LIMITED                                       277\n",
            "CIPLA LIMITED                                             175\n",
            "Name: count, dtype: int64\n"
          ]
        }
      ]
    },
    {
      "cell_type": "markdown",
      "source": [
        "**1. Which countries contribute the most to total freight costs?**"
      ],
      "metadata": {
        "id": "2nf5W2YCK3H5"
      }
    },
    {
      "cell_type": "markdown",
      "source": [
        "**Business Insight:** Identifying countries with high freight costs can help negotiate better shipping rates or optimize routes for cost efficiency."
      ],
      "metadata": {
        "id": "7n-zySXoK5PM"
      }
    },
    {
      "cell_type": "code",
      "source": [
        "# Convert 'Freight Cost (USD)' to numeric before applying nlargest\n",
        "data['Freight Cost (USD)'] = pd.to_numeric(data['Freight Cost (USD)'], errors='coerce')\n",
        "total_freight_cost_country = data.groupby('Country')['Freight Cost (USD)'].sum().nlargest(10)\n",
        "print(total_freight_cost_country)\n",
        "\n",
        "# Plotting\n",
        "total_freight_cost_country.plot(kind='bar', color='green')\n",
        "plt.title('Top 10 Countries by Total Freight Cost')\n",
        "plt.ylabel('Total Freight Cost (USD)')\n",
        "plt.show()\n"
      ],
      "metadata": {
        "colab": {
          "base_uri": "https://localhost:8080/",
          "height": 755
        },
        "id": "ZNXdiaVNTnXF",
        "outputId": "29e07463-29e7-4bea-99fc-0a70fd6f0ae4"
      },
      "execution_count": null,
      "outputs": [
        {
          "output_type": "stream",
          "name": "stdout",
          "text": [
            "Country\n",
            "Nigeria          14268550.39\n",
            "Zambia            6310437.21\n",
            "Côte d'Ivoire     6092165.51\n",
            "Rwanda            5893493.23\n",
            "Uganda            5484292.24\n",
            "Tanzania          4827989.32\n",
            "Zimbabwe          4318000.86\n",
            "Haiti             4000498.93\n",
            "Mozambique        3294121.06\n",
            "Vietnam           2737277.29\n",
            "Name: Freight Cost (USD), dtype: float64\n"
          ]
        },
        {
          "output_type": "display_data",
          "data": {
            "text/plain": [
              "<Figure size 640x480 with 1 Axes>"
            ],
            "image/png": "[encoded data removed]"
          },
          "metadata": {}
        }
      ]
    },
    {
      "cell_type": "markdown",
      "source": [
        "**2. What are the top 10 vendors based on freight costs?**"
      ],
      "metadata": {
        "id": "tVFv6tUvLOxA"
      }
    },
    {
      "cell_type": "markdown",
      "source": [
        "**`Business Insight:`** High freight costs with certain vendors may suggest inefficient supply chains or opportunities for negotiation."
      ],
      "metadata": {
        "id": "MAaTc-_eLQiL"
      }
    },
    {
      "cell_type": "code",
      "source": [
        "top_vendors_freight = data.groupby('Vendor')['Freight Cost (USD)'].sum().nlargest(10)\n",
        "print(top_vendors_freight)\n"
      ],
      "metadata": {
        "colab": {
          "base_uri": "https://localhost:8080/"
        },
        "id": "5JFsBiEiElkD",
        "outputId": "0d844a4e-2212-4ecd-b778-16b5d07892f2"
      },
      "execution_count": null,
      "outputs": [
        {
          "output_type": "stream",
          "name": "stdout",
          "text": [
            "Vendor\n",
            "SCMS from RDC                                            34854520.36\n",
            "Orgenics, Ltd                                             9834527.02\n",
            "Aurobindo Pharma Limited                                  4950613.50\n",
            "MYLAN LABORATORIES LTD (FORMERLY MATRIX LABORATORIES)     3123023.50\n",
            "HETERO LABS LIMITED                                       2641009.83\n",
            "SHANGHAI KEHUA BIOENGINEERING CO.,LTD.  (KHB)             2383953.19\n",
            "Trinity Biotech, Plc                                      2321168.85\n",
            "ABBVIE LOGISTICS (FORMERLY ABBOTT LOGISTICS BV)           1953114.70\n",
            "CIPLA LIMITED                                             1889796.42\n",
            "Standard Diagnostics, Inc.                                1291839.63\n",
            "Name: Freight Cost (USD), dtype: float64\n"
          ]
        }
      ]
    },
    {
      "cell_type": "markdown",
      "source": [
        "**3. Which shipment modes are most cost-effective (in terms of freight costs)?**"
      ],
      "metadata": {
        "id": "QJUNgtPILgKq"
      }
    },
    {
      "cell_type": "markdown",
      "source": [
        "**Business Insight:** Understanding which shipment modes (e.g., Air, Sea) are the most cost-effective can help in optimizing future shipments.\n"
      ],
      "metadata": {
        "id": "iZa8Fpq2Lf-8"
      }
    },
    {
      "cell_type": "code",
      "source": [
        "avg_freight_cost_mode = data.groupby('Shipment Mode')['Freight Cost (USD)'].mean()\n",
        "print(avg_freight_cost_mode)\n"
      ],
      "metadata": {
        "colab": {
          "base_uri": "https://localhost:8080/"
        },
        "id": "MKZBEu59KygN",
        "outputId": "96dee7c1-9a03-4026-9257-35018e11f28a"
      },
      "execution_count": null,
      "outputs": [
        {
          "output_type": "stream",
          "name": "stdout",
          "text": [
            "Shipment Mode\n",
            "Air            10458.960753\n",
            "Air Charter    21052.142642\n",
            "Ocean          12733.080816\n",
            "Truck          10176.405000\n",
            "Name: Freight Cost (USD), dtype: float64\n"
          ]
        }
      ]
    },
    {
      "cell_type": "markdown",
      "source": [
        "**4. Is there a correlation between freight cost and weight?**"
      ],
      "metadata": {
        "id": "qYNhlbPvLvfi"
      }
    },
    {
      "cell_type": "markdown",
      "source": [
        "**Business Insight:** Determining if there's a strong correlation between shipment weight and freight cost can help forecast future shipping costs."
      ],
      "metadata": {
        "id": "v3WZb9lYLvYT"
      }
    },
    {
      "cell_type": "code",
      "source": [
        "# Convert 'Freight Cost (USD)' and 'Weight (Kilograms)' columns to numeric, handling errors\n",
        "# Errors='coerce' will replace non-numeric values with NaN\n",
        "data['Freight Cost (USD)'] = pd.to_numeric(data['Freight Cost (USD)'], errors='coerce')\n",
        "data['Weight (Kilograms)'] = pd.to_numeric(data['Weight (Kilograms)'], errors='coerce')\n",
        "correlation = data['Freight Cost (USD)'].corr(data['Weight (Kilograms)'])\n",
        "print(f'Correlation between weight and freight cost: {correlation}')"
      ],
      "metadata": {
        "colab": {
          "base_uri": "https://localhost:8080/"
        },
        "id": "DGLEDnQ0UsY5",
        "outputId": "43a4d29f-4553-4382-a197-e150b9b418fb"
      },
      "execution_count": null,
      "outputs": [
        {
          "output_type": "stream",
          "name": "stdout",
          "text": [
            "Correlation between weight and freight cost: 0.2320523048718879\n"
          ]
        }
      ]
    },
    {
      "cell_type": "code",
      "source": [
        "# Scatter plot\n",
        "plt.scatter(data['Weight (Kilograms)'], data['Freight Cost (USD)'], alpha=0.5)\n",
        "plt.title('Freight Cost vs Weight')\n",
        "plt.xlabel('Weight (Kilograms)')\n",
        "plt.ylabel('Freight Cost (USD)')\n",
        "plt.show()"
      ],
      "metadata": {
        "colab": {
          "base_uri": "https://localhost:8080/",
          "height": 472
        },
        "id": "N7zIlRg6U6d9",
        "outputId": "5acfff46-495d-4039-d405-2cbea5f92b2e"
      },
      "execution_count": null,
      "outputs": [
        {
          "output_type": "display_data",
          "data": {
            "text/plain": [
              "<Figure size 640x480 with 1 Axes>"
            ],
            "image/png": "[encoded data removed]"
          },
          "metadata": {}
        }
      ]
    },
    {
      "cell_type": "markdown",
      "source": [
        "**5. Which INCO terms are associated with the highest freight costs?**"
      ],
      "metadata": {
        "id": "i0fGaYwLVVY-"
      }
    },
    {
      "cell_type": "markdown",
      "source": [
        "**Business Insight:** Identifying which INCO terms lead to higher costs to optimize terms during contract negotiations."
      ],
      "metadata": {
        "id": "laT4JIWkMO8r"
      }
    },
    {
      "cell_type": "code",
      "source": [
        "inco_freight_cost = data.groupby('Vendor INCO Term')['Freight Cost (USD)'].sum().nlargest(5)\n",
        "print(inco_freight_cost)\n",
        "\n",
        "# Plotting\n",
        "inco_freight_cost.plot(kind='bar', color='orange')\n",
        "plt.title('Top 5 INCO Terms by Total Freight Cost')\n",
        "plt.ylabel('Total Freight Cost (USD)')\n",
        "plt.show()\n"
      ],
      "metadata": {
        "colab": {
          "base_uri": "https://localhost:8080/",
          "height": 686
        },
        "id": "_oOsgu1fVeri",
        "outputId": "d3cb4632-6bdf-49f7-bc2a-d3ed6cb0fd4f"
      },
      "execution_count": null,
      "outputs": [
        {
          "output_type": "stream",
          "name": "stdout",
          "text": [
            "Vendor INCO Term\n",
            "N/A - From RDC    34854520.36\n",
            "EXW               28248651.19\n",
            "DDP                2499186.51\n",
            "FCA                2039273.45\n",
            "CIP                1170620.66\n",
            "Name: Freight Cost (USD), dtype: float64\n"
          ]
        },
        {
          "output_type": "display_data",
          "data": {
            "text/plain": [
              "<Figure size 640x480 with 1 Axes>"
            ],
            "image/png": "[encoded data removed]"
          },
          "metadata": {}
        }
      ]
    },
    {
      "cell_type": "markdown",
      "source": [
        "**6. Which countries have the most shipments?**"
      ],
      "metadata": {
        "id": "Q81jk08uOmEq"
      }
    },
    {
      "cell_type": "markdown",
      "source": [
        "**Business Insight:** This helps in understanding shipment concentration and potentially optimizing logistics for frequent destinations."
      ],
      "metadata": {
        "id": "yPFi4kGOOvkf"
      }
    },
    {
      "cell_type": "code",
      "source": [
        "country_shipments = data['Country'].value_counts().head(10)\n",
        "print(country_shipments)\n"
      ],
      "metadata": {
        "colab": {
          "base_uri": "https://localhost:8080/"
        },
        "id": "yMyVE9BRKxfh",
        "outputId": "85c49ce1-e290-4334-d96f-1015ad70fd68"
      },
      "execution_count": null,
      "outputs": [
        {
          "output_type": "stream",
          "name": "stdout",
          "text": [
            "Country\n",
            "South Africa     1406\n",
            "Nigeria          1194\n",
            "Côte d'Ivoire    1083\n",
            "Uganda            779\n",
            "Vietnam           688\n",
            "Zambia            683\n",
            "Haiti             655\n",
            "Mozambique        631\n",
            "Zimbabwe          538\n",
            "Tanzania          519\n",
            "Name: count, dtype: int64\n"
          ]
        }
      ]
    },
    {
      "cell_type": "markdown",
      "source": [
        "**7. Which vendors contribute the most to overall shipment volumes?**"
      ],
      "metadata": {
        "id": "AV7aNfoTO5Sq"
      }
    },
    {
      "cell_type": "markdown",
      "source": [
        "**Business Insight:** Recognizing key vendors with high shipment volumes can provide insights for optimizing vendor relationships and negotiations."
      ],
      "metadata": {
        "id": "JnoZbStZO5PR"
      }
    },
    {
      "cell_type": "code",
      "source": [
        "vendor_shipments = data['Vendor'].value_counts().head(10)\n",
        "print(vendor_shipments)\n"
      ],
      "metadata": {
        "colab": {
          "base_uri": "https://localhost:8080/"
        },
        "id": "2T8p1jSiKxdP",
        "outputId": "59ded349-4504-4359-cb00-be049f59b9f2"
      },
      "execution_count": null,
      "outputs": [
        {
          "output_type": "stream",
          "name": "stdout",
          "text": [
            "Vendor\n",
            "SCMS from RDC                                            5404\n",
            "Orgenics, Ltd                                             754\n",
            "S. BUYS WHOLESALER                                        715\n",
            "Aurobindo Pharma Limited                                  668\n",
            "Trinity Biotech, Plc                                      356\n",
            "ABBVIE LOGISTICS (FORMERLY ABBOTT LOGISTICS BV)           347\n",
            "PHARMACY DIRECT                                           326\n",
            "MYLAN LABORATORIES LTD (FORMERLY MATRIX LABORATORIES)     317\n",
            "HETERO LABS LIMITED                                       277\n",
            "CIPLA LIMITED                                             175\n",
            "Name: count, dtype: int64\n"
          ]
        }
      ]
    },
    {
      "cell_type": "markdown",
      "source": [
        "**8. What is the average line item quantity per shipment mode?**"
      ],
      "metadata": {
        "id": "t5bK5qYtPFcY"
      }
    },
    {
      "cell_type": "markdown",
      "source": [
        "**Business Insight:** Different shipment modes may carry different quantities, which could influence future shipping decisions.\n"
      ],
      "metadata": {
        "id": "k582FM80PHi6"
      }
    },
    {
      "cell_type": "code",
      "source": [
        "avg_line_item_quantity = data.groupby('Shipment Mode')['Line Item Quantity'].mean()\n",
        "print(avg_line_item_quantity)\n"
      ],
      "metadata": {
        "colab": {
          "base_uri": "https://localhost:8080/"
        },
        "id": "oEdUJv30KxaG",
        "outputId": "5d331397-5d5f-4a11-8c36-a54ba5fac944"
      },
      "execution_count": null,
      "outputs": [
        {
          "output_type": "stream",
          "name": "stdout",
          "text": [
            "Shipment Mode\n",
            "Air             9143.640275\n",
            "Air Charter    45352.953846\n",
            "Ocean          65314.692722\n",
            "Truck          26803.161484\n",
            "Name: Line Item Quantity, dtype: float64\n"
          ]
        }
      ]
    },
    {
      "cell_type": "markdown",
      "source": [
        "**9. Which manufacturing sites are used most frequently?**"
      ],
      "metadata": {
        "id": "pnCjDMPpPxzq"
      }
    },
    {
      "cell_type": "markdown",
      "source": [
        "**Business Insight:** Understanding frequently used manufacturing sites may help in evaluating their performance and shipping efficiency."
      ],
      "metadata": {
        "id": "0Rk0lAelP0LF"
      }
    },
    {
      "cell_type": "code",
      "source": [
        "top_manufacturing_sites = data['Manufacturing Site'].value_counts().head(10)\n",
        "print(top_manufacturing_sites)\n"
      ],
      "metadata": {
        "colab": {
          "base_uri": "https://localhost:8080/"
        },
        "id": "bcmvBclYKxXS",
        "outputId": "7230670f-5d0d-4790-ec32-5450599ed369"
      },
      "execution_count": null,
      "outputs": [
        {
          "output_type": "stream",
          "name": "stdout",
          "text": [
            "Manufacturing Site\n",
            "Aurobindo Unit III, India         3172\n",
            "Mylan (formerly Matrix) Nashik    1415\n",
            "Hetero Unit III Hyderabad IN       869\n",
            "Cipla, Goa, India                  665\n",
            "Strides, Bangalore, India.         540\n",
            "Alere Medical Co., Ltd.            481\n",
            "Trinity Biotech, Plc               405\n",
            "ABBVIE Ludwigshafen Germany        366\n",
            "Inverness Japan                    345\n",
            "ABBVIE (Abbott) Logis. UK          219\n",
            "Name: count, dtype: int64\n"
          ]
        }
      ]
    },
    {
      "cell_type": "markdown",
      "source": [
        "**10. What are the top 5 most expensive shipments in terms of freight cost?**"
      ],
      "metadata": {
        "id": "SXPnI-BtP--P"
      }
    },
    {
      "cell_type": "markdown",
      "source": [
        "**Business Insight:** Identifying outlier shipments with unusually high freight costs could help in assessing any issues in the shipping process."
      ],
      "metadata": {
        "id": "AwwBNWKmQAlz"
      }
    },
    {
      "cell_type": "code",
      "source": [
        "expensive_shipments = data.nlargest(5, 'Freight Cost (USD)')[['PO / SO #', 'Freight Cost (USD)']]\n",
        "print(expensive_shipments)\n"
      ],
      "metadata": {
        "colab": {
          "base_uri": "https://localhost:8080/"
        },
        "id": "TzunJORmKwUx",
        "outputId": "a16b98ef-1293-46dc-9dce-9a628424ff56"
      },
      "execution_count": null,
      "outputs": [
        {
          "output_type": "stream",
          "name": "stdout",
          "text": [
            "        PO / SO #  Freight Cost (USD)\n",
            "4062  SCMS-198220           289653.20\n",
            "4307  SCMS-184980           241407.27\n",
            "8850     SO-48892           194623.44\n",
            "4218  SCMS-148510           161962.32\n",
            "6848     SO-44400           161712.87\n"
          ]
        }
      ]
    },
    {
      "cell_type": "markdown",
      "source": [
        "**11. Which countries receive the heaviest shipments?**"
      ],
      "metadata": {
        "id": "N0IeLhf7QSxo"
      }
    },
    {
      "cell_type": "markdown",
      "source": [
        "**Business Insight:** This information can help in optimizing logistics strategies for countries with consistently heavier shipments.\n"
      ],
      "metadata": {
        "id": "3fH3aJssQYD5"
      }
    },
    {
      "cell_type": "code",
      "source": [
        "country_weights = data.groupby('Country')['Weight (Kilograms)'].sum().nlargest(10)\n",
        "print(country_weights)\n"
      ],
      "metadata": {
        "colab": {
          "base_uri": "https://localhost:8080/"
        },
        "id": "Ai3McIx6KwRS",
        "outputId": "6e195acf-18b0-493e-b1d2-f3b9c8bd2e51"
      },
      "execution_count": null,
      "outputs": [
        {
          "output_type": "stream",
          "name": "stdout",
          "text": [
            "Country\n",
            "Nigeria          4127176.0\n",
            "Zambia           3669842.0\n",
            "Mozambique       2402456.0\n",
            "Côte d'Ivoire    2057976.0\n",
            "South Africa     1697764.0\n",
            "Zimbabwe         1686240.0\n",
            "Tanzania         1409825.0\n",
            "Uganda           1283799.0\n",
            "Rwanda            948265.0\n",
            "Vietnam           635573.0\n",
            "Name: Weight (Kilograms), dtype: float64\n"
          ]
        }
      ]
    },
    {
      "cell_type": "markdown",
      "source": [
        "**12. How do freight costs compare across different shipment modes?**"
      ],
      "metadata": {
        "id": "4gChRXHtQl1e"
      }
    },
    {
      "cell_type": "markdown",
      "source": [
        "**Business Insight:** Comparing average freight costs across different shipment modes can help choose the most cost-effective option.\n"
      ],
      "metadata": {
        "id": "LlFoOZlEQn5r"
      }
    },
    {
      "cell_type": "code",
      "source": [
        "avg_freight_cost_mode = data.groupby('Shipment Mode')['Freight Cost (USD)'].mean()\n",
        "print(avg_freight_cost_mode)\n"
      ],
      "metadata": {
        "colab": {
          "base_uri": "https://localhost:8080/"
        },
        "id": "ibzgui4hTCwt",
        "outputId": "9b74720d-314e-458e-acbb-16e850d0f208"
      },
      "execution_count": null,
      "outputs": [
        {
          "output_type": "stream",
          "name": "stdout",
          "text": [
            "Shipment Mode\n",
            "Air            10458.960753\n",
            "Air Charter    21052.142642\n",
            "Ocean          12733.080816\n",
            "Truck          10176.405000\n",
            "Name: Freight Cost (USD), dtype: float64\n"
          ]
        }
      ]
    },
    {
      "cell_type": "code",
      "source": [
        "# Plotting\n",
        "avg_freight_cost_mode.plot(kind='bar', color='skyblue')\n",
        "plt.title('Average Freight Cost by Shipment Mode')\n",
        "plt.ylabel('Average Freight Cost (USD)')\n",
        "plt.show()"
      ],
      "metadata": {
        "colab": {
          "base_uri": "https://localhost:8080/",
          "height": 534
        },
        "id": "n2abpNzATO7l",
        "outputId": "9cf21647-e689-4848-8d60-079c04219148"
      },
      "execution_count": null,
      "outputs": [
        {
          "output_type": "display_data",
          "data": {
            "text/plain": [
              "<Figure size 640x480 with 1 Axes>"
            ],
            "image/png": "[encoded data removed]"
          },
          "metadata": {}
        }
      ]
    },
    {
      "cell_type": "markdown",
      "source": [
        "**13. Which shipment modes have the highest average line item values?**"
      ],
      "metadata": {
        "id": "o_r7NOOURF92"
      }
    },
    {
      "cell_type": "markdown",
      "source": [
        "**Business Insight:** Shipment modes carrying high-value items may need enhanced security and monitoring."
      ],
      "metadata": {
        "id": "SIC14j8CRFzx"
      }
    },
    {
      "cell_type": "code",
      "source": [
        "avg_line_item_value = data.groupby('Shipment Mode')['Line Item Value'].mean()\n",
        "print(avg_line_item_value)\n"
      ],
      "metadata": {
        "colab": {
          "base_uri": "https://localhost:8080/"
        },
        "id": "e9H8BH3SKwD_",
        "outputId": "cfff7012-738f-4fca-e27f-6fe25cc39fb3"
      },
      "execution_count": null,
      "outputs": [
        {
          "output_type": "stream",
          "name": "stdout",
          "text": [
            "Shipment Mode\n",
            "Air            102615.072379\n",
            "Air Charter    379034.201769\n",
            "Ocean          340102.274367\n",
            "Truck          207555.607456\n",
            "Name: Line Item Value, dtype: float64\n"
          ]
        }
      ]
    },
    {
      "cell_type": "markdown",
      "source": [
        "**14. What are the average freight costs per country?**"
      ],
      "metadata": {
        "id": "PskkUFAaRRxg"
      }
    },
    {
      "cell_type": "markdown",
      "source": [
        "**Business Insight:** This can help identify countries where freight costs might be disproportionately high."
      ],
      "metadata": {
        "id": "qBYbi98VRTkw"
      }
    },
    {
      "cell_type": "code",
      "source": [
        "avg_freight_cost_country = data.groupby('Country')['Freight Cost (USD)'].mean()\n",
        "print(avg_freight_cost_country)\n"
      ],
      "metadata": {
        "colab": {
          "base_uri": "https://localhost:8080/"
        },
        "id": "wpxFommNKwBK",
        "outputId": "49879dfc-5cfc-49c7-89f1-4da4aefbb8e6"
      },
      "execution_count": null,
      "outputs": [
        {
          "output_type": "stream",
          "name": "stdout",
          "text": [
            "Country\n",
            "Afghanistan             540.525000\n",
            "Angola                 4685.242857\n",
            "Belize                 1959.610000\n",
            "Benin                  9430.738571\n",
            "Botswana               2224.680161\n",
            "Burkina Faso                   NaN\n",
            "Burundi                5572.184286\n",
            "Cameroon              32006.276607\n",
            "Congo, DRC             6721.951058\n",
            "Côte d'Ivoire          8356.879986\n",
            "Dominican Republic     8780.877857\n",
            "Ethiopia              11658.745965\n",
            "Ghana                 13162.594762\n",
            "Guatemala              7698.996000\n",
            "Guinea                 1804.200000\n",
            "Guyana                 3186.095871\n",
            "Haiti                 10102.270025\n",
            "Kazakhstan                     NaN\n",
            "Kenya                 15703.424615\n",
            "Kyrgyzstan                     NaN\n",
            "Lebanon                        NaN\n",
            "Lesotho                5825.705000\n",
            "Liberia                3325.141667\n",
            "Libya                  2090.292500\n",
            "Malawi                 7172.866429\n",
            "Mali                   2305.325000\n",
            "Mozambique             9024.989205\n",
            "Namibia                5747.992125\n",
            "Nigeria               18676.113076\n",
            "Pakistan              13298.476250\n",
            "Rwanda                16838.552086\n",
            "Senegal                 722.315000\n",
            "Sierra Leone          18249.265000\n",
            "South Africa           8628.329758\n",
            "South Sudan            4234.216271\n",
            "Sudan                  1493.332791\n",
            "Swaziland              7995.490400\n",
            "Tanzania              11718.420680\n",
            "Togo                   6272.360000\n",
            "Uganda                 9723.922411\n",
            "Vietnam                6137.393027\n",
            "Zambia                12205.874681\n",
            "Zimbabwe              13536.052853\n",
            "Name: Freight Cost (USD), dtype: float64\n"
          ]
        }
      ]
    },
    {
      "cell_type": "markdown",
      "source": [
        "**15. Which shipment modes have the highest insurance costs?**"
      ],
      "metadata": {
        "id": "Zey_VTK1RcVg"
      }
    },
    {
      "cell_type": "markdown",
      "source": [
        "**Business Insight:** Shipments with high insurance costs could benefit from reviewing the insurance policies used.\n"
      ],
      "metadata": {
        "id": "JEg4ORt4RcOP"
      }
    },
    {
      "cell_type": "code",
      "source": [
        "avg_insurance_mode = data.groupby('Shipment Mode')['Line Item Insurance (USD)'].mean()\n",
        "print(avg_insurance_mode)\n"
      ],
      "metadata": {
        "colab": {
          "base_uri": "https://localhost:8080/"
        },
        "id": "FLqSwO0bKv-j",
        "outputId": "69b8059d-1844-4189-8b80-d79b2db4ecc8"
      },
      "execution_count": null,
      "outputs": [
        {
          "output_type": "stream",
          "name": "stdout",
          "text": [
            "Shipment Mode\n",
            "Air            162.401546\n",
            "Air Charter    543.556585\n",
            "Ocean          567.808518\n",
            "Truck          294.259442\n",
            "Name: Line Item Insurance (USD), dtype: float64\n"
          ]
        }
      ]
    },
    {
      "cell_type": "markdown",
      "source": [
        "**16. What is the distribution of shipment weight across different shipment modes?**\n"
      ],
      "metadata": {
        "id": "mgqIsvWoRnHT"
      }
    },
    {
      "cell_type": "markdown",
      "source": [
        "**Business Insight:** Understanding weight distribution can help in optimizing which items to send via which mode."
      ],
      "metadata": {
        "id": "vIhcU7QERxbd"
      }
    },
    {
      "cell_type": "code",
      "source": [
        "weight_distribution_mode = data.groupby('Shipment Mode')['Weight (Kilograms)'].sum()\n",
        "print(weight_distribution_mode)\n"
      ],
      "metadata": {
        "colab": {
          "base_uri": "https://localhost:8080/"
        },
        "id": "7bDZRE6bRoO2",
        "outputId": "a05f0c46-d3f9-4285-c149-faa655a20ba9"
      },
      "execution_count": null,
      "outputs": [
        {
          "output_type": "stream",
          "name": "stdout",
          "text": [
            "Shipment Mode\n",
            "Air            8301064.0\n",
            "Air Charter    3420128.0\n",
            "Ocean          1939423.0\n",
            "Truck          7768994.0\n",
            "Name: Weight (Kilograms), dtype: float64\n"
          ]
        }
      ]
    },
    {
      "cell_type": "markdown",
      "source": [
        "**17. What is the average unit price per country?**"
      ],
      "metadata": {
        "id": "6Ae911hyR-b1"
      }
    },
    {
      "cell_type": "markdown",
      "source": [
        "**Business Insight:** Different countries might have different pricing strategies; this can help understand global pricing trends.\n"
      ],
      "metadata": {
        "id": "FtzPwkTUSAEI"
      }
    },
    {
      "cell_type": "code",
      "source": [
        "avg_unit_price_country = data.groupby('Country')['Unit Price'].mean()\n",
        "print(avg_unit_price_country)\n"
      ],
      "metadata": {
        "colab": {
          "base_uri": "https://localhost:8080/"
        },
        "id": "S8mes7z6Kv7q",
        "outputId": "32dd8d2a-5fdf-40b4-830c-d1b5d5f7fe83"
      },
      "execution_count": null,
      "outputs": [
        {
          "output_type": "stream",
          "name": "stdout",
          "text": [
            "Country\n",
            "Afghanistan           0.113333\n",
            "Angola                0.717143\n",
            "Belize                0.010000\n",
            "Benin                 0.257692\n",
            "Botswana              3.774429\n",
            "Burkina Faso          0.090000\n",
            "Burundi               0.566020\n",
            "Cameroon              0.742133\n",
            "Congo, DRC            0.516246\n",
            "Côte d'Ivoire         0.604395\n",
            "Dominican Republic    0.533654\n",
            "Ethiopia              3.896111\n",
            "Ghana                 0.106897\n",
            "Guatemala             1.590667\n",
            "Guinea                0.720000\n",
            "Guyana                0.458819\n",
            "Haiti                 0.883038\n",
            "Kazakhstan            3.500000\n",
            "Kenya                 1.156757\n",
            "Kyrgyzstan            1.980000\n",
            "Lebanon               0.000000\n",
            "Lesotho               2.350000\n",
            "Liberia               1.066667\n",
            "Libya                 0.163750\n",
            "Malawi                0.965714\n",
            "Mali                  6.107647\n",
            "Mozambique            0.412298\n",
            "Namibia               1.134316\n",
            "Nigeria               0.448978\n",
            "Pakistan              0.888000\n",
            "Rwanda                1.393140\n",
            "Senegal               0.863333\n",
            "Sierra Leone          1.205000\n",
            "South Africa          0.314943\n",
            "South Sudan           1.244634\n",
            "Sudan                 0.915652\n",
            "Swaziland             0.828571\n",
            "Tanzania              0.407187\n",
            "Togo                  0.116667\n",
            "Uganda                0.357497\n",
            "Vietnam               0.230872\n",
            "Zambia                0.315256\n",
            "Zimbabwe              0.255186\n",
            "Name: Unit Price, dtype: float64\n"
          ]
        }
      ]
    },
    {
      "cell_type": "markdown",
      "source": [
        "**18. What is the total number of unique vendors?**"
      ],
      "metadata": {
        "id": "77P33OdWSI8b"
      }
    },
    {
      "cell_type": "markdown",
      "source": [
        "**Business Insight:** Knowing how many unique vendors are in the supply chain can provide insights into the complexity of vendor management."
      ],
      "metadata": {
        "id": "w17CP4CcSKZ1"
      }
    },
    {
      "cell_type": "code",
      "source": [
        "unique_vendors = data['Vendor'].nunique()\n",
        "print(f'Total unique vendors: {unique_vendors}')\n"
      ],
      "metadata": {
        "colab": {
          "base_uri": "https://localhost:8080/"
        },
        "id": "8lUnQHs-Kv5G",
        "outputId": "3a772d1e-1311-4cff-8eb5-3678f14e96e4"
      },
      "execution_count": null,
      "outputs": [
        {
          "output_type": "stream",
          "name": "stdout",
          "text": [
            "Total unique vendors: 73\n"
          ]
        }
      ]
    },
    {
      "cell_type": "markdown",
      "source": [
        "**19. Which vendors provide the most expensive items (by unit price)?**"
      ],
      "metadata": {
        "id": "bcEVmlqGSSmW"
      }
    },
    {
      "cell_type": "markdown",
      "source": [
        "**Business Insight:** Vendors supplying high-priced items could warrant closer monitoring for quality control and negotiation opportunities."
      ],
      "metadata": {
        "id": "DpEzlhnZSUwl"
      }
    },
    {
      "cell_type": "code",
      "source": [
        "top_vendors_unit_price = data.groupby('Vendor')['Unit Price'].mean().nlargest(10)\n",
        "print(top_vendors_unit_price)\n"
      ],
      "metadata": {
        "colab": {
          "base_uri": "https://localhost:8080/"
        },
        "id": "0oQOZBcFKv2u",
        "outputId": "0e372cd3-d74f-4880-adf1-fa50f5710ed2"
      },
      "execution_count": null,
      "outputs": [
        {
          "output_type": "stream",
          "name": "stdout",
          "text": [
            "Vendor\n",
            "BIO-RAD LABORATORIES PTY LTD. (SOUTH AFRICA)      41.680000\n",
            "BUNDI INTERNATIONAL DIAGNOSTICS LTD               37.500000\n",
            "SHANGHAI KEHUA BIOENGINEERING CO.,LTD.  (KHB)     24.085714\n",
            "AHN (PTY) LTD (AKA UCB (S.A.)                      7.000000\n",
            "BIO-RAD LABORATORIES (FRANCE)                      6.249286\n",
            "Orasure Technologies Inc.                          5.337321\n",
            "WAGENIA                                            4.330000\n",
            "PLURIPHARM S.A.                                    2.700000\n",
            "BIOLYTICAL LABORATORIES INC.                       2.540000\n",
            "TURE PHARMACEUTICALS & MEDICAL SUPPLIES P.L.C.     2.393333\n",
            "Name: Unit Price, dtype: float64\n"
          ]
        }
      ]
    },
    {
      "cell_type": "markdown",
      "source": [
        "**20. What are the top 5 INCO terms by total shipment volume?**\n"
      ],
      "metadata": {
        "id": "HuKagRkTV-ki"
      }
    },
    {
      "cell_type": "markdown",
      "source": [
        "**Business Insight:** Frequently used INCO terms can give insight into the preferred shipping terms used by FedEx and its partners."
      ],
      "metadata": {
        "id": "vN4cA5kFWBKU"
      }
    },
    {
      "cell_type": "code",
      "source": [
        "top_inco_terms = data['Vendor INCO Term'].value_counts().head(5)\n",
        "print(top_inco_terms)\n"
      ],
      "metadata": {
        "colab": {
          "base_uri": "https://localhost:8080/"
        },
        "id": "S9yRW6YdKvxL",
        "outputId": "d6b7ed13-f3af-4007-bd65-3f77f9837615"
      },
      "execution_count": null,
      "outputs": [
        {
          "output_type": "stream",
          "name": "stdout",
          "text": [
            "Vendor INCO Term\n",
            "N/A - From RDC    5404\n",
            "EXW               2778\n",
            "DDP               1443\n",
            "FCA                397\n",
            "CIP                275\n",
            "Name: count, dtype: int64\n"
          ]
        }
      ]
    },
    {
      "cell_type": "markdown",
      "source": [
        "**GitHub**"
      ],
      "metadata": {
        "id": "OFEZy0VS-HG9"
      }
    },
    {
      "cell_type": "code",
      "source": [
        "#github link"
      ],
      "metadata": {
        "id": "_CdBkdwH-M8V"
      },
      "execution_count": null,
      "outputs": []
    },
    {
      "cell_type": "markdown",
      "source": [
        "**Conclusion**\n",
        "\n",
        "By performing exploratory data analysis on the FedEx logistics dataset, we were able to provide actionable insights into the company’s global supply chain operations. This data-driven approach will allow FedEx to make informed decisions to optimize shipment methods, reduce costs, and improve overall delivery efficiency."
      ],
      "metadata": {
        "id": "pD5vtQaefsyz"
      }
    }
  ]
}